{
  "nbformat": 4,
  "nbformat_minor": 0,
  "metadata": {
    "kernelspec": {
      "display_name": "Python 3",
      "language": "python",
      "name": "python3"
    },
    "language_info": {
      "codemirror_mode": {
        "name": "ipython",
        "version": 3
      },
      "file_extension": ".py",
      "mimetype": "text/x-python",
      "name": "python",
      "nbconvert_exporter": "python",
      "pygments_lexer": "ipython3",
      "version": "3.7.6"
    },
    "colab": {
      "name": "workshop_exercise_3.ipynb",
      "provenance": [],
      "collapsed_sections": []
    }
  },
  "cells": [
    {
      "cell_type": "markdown",
      "metadata": {
        "id": "c9Gb4siDDxqO",
        "colab_type": "text"
      },
      "source": [
        "\n",
        "### Paso 1. Instalando paquetes en Jupyter\n",
        "\n"
      ]
    },
    {
      "cell_type": "code",
      "metadata": {
        "id": "Qzx2Q6AkD2K4",
        "colab_type": "code",
        "colab": {}
      },
      "source": [
        ""
      ],
      "execution_count": 0,
      "outputs": []
    },
    {
      "cell_type": "markdown",
      "metadata": {
        "id": "BqfYbxiAD20I",
        "colab_type": "text"
      },
      "source": [
        "###Paso 2. Importando librerías"
      ]
    },
    {
      "cell_type": "code",
      "metadata": {
        "id": "LFBmiEapDwTS",
        "colab_type": "code",
        "colab": {}
      },
      "source": [
        ""
      ],
      "execution_count": 0,
      "outputs": []
    },
    {
      "cell_type": "markdown",
      "metadata": {
        "id": "jMaxHmzQD4NH",
        "colab_type": "text"
      },
      "source": [
        "###Paso 3. Descarga de datos"
      ]
    },
    {
      "cell_type": "code",
      "metadata": {
        "id": "bSYobr-GDwTX",
        "colab_type": "code",
        "colab": {}
      },
      "source": [
        ""
      ],
      "execution_count": 0,
      "outputs": []
    },
    {
      "cell_type": "markdown",
      "metadata": {
        "id": "HZKuPQFND5Hu",
        "colab_type": "text"
      },
      "source": [
        "###Paso 4. Definición de clases y datos"
      ]
    },
    {
      "cell_type": "code",
      "metadata": {
        "id": "EEWqRjJ2DwTb",
        "colab_type": "code",
        "colab": {}
      },
      "source": [
        ""
      ],
      "execution_count": 0,
      "outputs": []
    },
    {
      "cell_type": "markdown",
      "metadata": {
        "id": "NQSJLngdD53n",
        "colab_type": "text"
      },
      "source": [
        "###Paso 5. Análisis de datos"
      ]
    },
    {
      "cell_type": "code",
      "metadata": {
        "id": "9ocQgb7GDwTf",
        "colab_type": "code",
        "colab": {}
      },
      "source": [
        ""
      ],
      "execution_count": 0,
      "outputs": []
    },
    {
      "cell_type": "markdown",
      "metadata": {
        "id": "T-SHtdn0D6fI",
        "colab_type": "text"
      },
      "source": [
        "###Paso 6. Visualización de los datos"
      ]
    },
    {
      "cell_type": "code",
      "metadata": {
        "id": "vCwQW5DQDwTk",
        "colab_type": "code",
        "colab": {}
      },
      "source": [
        ""
      ],
      "execution_count": 0,
      "outputs": []
    }
  ]
}