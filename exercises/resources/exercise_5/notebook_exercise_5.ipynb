{
  "nbformat": 4,
  "nbformat_minor": 0,
  "metadata": {
    "kernelspec": {
      "display_name": "Python 3",
      "language": "python",
      "name": "python3"
    },
    "language_info": {
      "codemirror_mode": {
        "name": "ipython",
        "version": 3
      },
      "file_extension": ".py",
      "mimetype": "text/x-python",
      "name": "python",
      "nbconvert_exporter": "python",
      "pygments_lexer": "ipython3",
      "version": "3.7.6"
    },
    "colab": {
      "name": "workshop_exercise_5.ipynb",
      "provenance": []
    }
  },
  "cells": [
    {
      "cell_type": "markdown",
      "metadata": {
        "id": "omfaKxIIIBeQ",
        "colab_type": "text"
      },
      "source": [
        "###Paso 1. Instalación de librerías y carga de TensorBoard"
      ]
    },
    {
      "cell_type": "code",
      "metadata": {
        "id": "yuGH5WmQHzuV",
        "colab_type": "code",
        "colab": {}
      },
      "source": [
        "#1: Definición de librerías para instalar\n",
        "!pip install pandas scikit-learn numpy seaborn matplotlib numpy tensorflow==1.15 requests\n",
        "%load_ext tensorboard"
      ],
      "execution_count": 0,
      "outputs": []
    },
    {
      "cell_type": "markdown",
      "metadata": {
        "id": "X6AQR5RBOiKf",
        "colab_type": "text"
      },
      "source": [
        "###Paso 2. Importación de liberías "
      ]
    },
    {
      "cell_type": "code",
      "metadata": {
        "id": "Ihg7BgBkHzue",
        "colab_type": "code",
        "colab": {}
      },
      "source": [
        ""
      ],
      "execution_count": 0,
      "outputs": []
    },
    {
      "cell_type": "code",
      "metadata": {
        "id": "RXLWmaclHzuk",
        "colab_type": "code",
        "colab": {}
      },
      "source": [
        "urls = ['http://fashion-mnist.s3-website.eu-central-1.amazonaws.com/train-images-idx3-ubyte.gz',\n",
        "         'http://fashion-mnist.s3-website.eu-central-1.amazonaws.com/train-labels-idx1-ubyte.gz',\n",
        "         'http://fashion-mnist.s3-website.eu-central-1.amazonaws.com/t10k-images-idx3-ubyte.gz',\n",
        "         'http://fashion-mnist.s3-website.eu-central-1.amazonaws.com/t10k-labels-idx1-ubyte.gz']\n",
        "\n",
        "#Creamos un directorio denominado data\n",
        "\n",
        "data_path = \"data\"\n",
        "\n",
        "try:\n",
        "    os.mkdir(data_path)\n",
        "except OSError:\n",
        "    print (\"El directorio %s ha sido creado correctamente\" % (data_path))\n",
        "else:\n",
        "    print (\"El directorio %s no hay podido ser creado\" % (data_path))\n",
        "\n",
        "for url in urls:\n",
        "    save_path = os.path.join(\"data\", url.split('/')[-1])\n",
        "    r = requests.get(url, stream=True)\n",
        "    with open(save_path, 'wb') as fd:\n",
        "        for chunk in r.iter_content(chunk_size=128):\n",
        "            fd.write(chunk)\n",
        "        print (\"Fichero %s ha sido descargado correctamente\" % (save_path))"
      ],
      "execution_count": 0,
      "outputs": []
    },
    {
      "cell_type": "code",
      "metadata": {
        "id": "isBZjMyoHzuq",
        "colab_type": "code",
        "colab": {}
      },
      "source": [
        "full_data = input_data.read_data_sets('data', \n",
        "                                             one_hot=True)\n",
        "\n",
        "LABELS = {\n",
        " 0: 'T-shirt/top',\n",
        " 1: 'Trouser',\n",
        " 2: 'Pullover',\n",
        " 3: 'Dress',\n",
        " 4: 'Coat',\n",
        " 5: 'Sandal',\n",
        " 6: 'Shirt',\n",
        " 7: 'Sneaker',\n",
        " 8: 'Bag',\n",
        " 9: 'Ankle boot',\n",
        "}"
      ],
      "execution_count": 0,
      "outputs": []
    },
    {
      "cell_type": "code",
      "metadata": {
        "id": "yfd-d1dTHzuv",
        "colab_type": "code",
        "colab": {}
      },
      "source": [
        "print(\"Conjunto de entrenamiento (Imágenes) shape: {shape}\".format(shape=full_data.train.images.shape))\n",
        "print(\"Conjunto de entrenamiento (Classes) shape: {shape}\".format(shape=full_data.train.labels.shape))\n",
        "print(\"Conjunto de test (Imágenes) shape: {shape}\".format(shape=full_data.test.images.shape))\n",
        "print(\"Conjunto de test (Clases) shape: {shape}\".format(shape=full_data.test.labels.shape))\n",
        "\n",
        "print(full_data.train.images[0].shape)\n",
        "print(math.sqrt(full_data.train.images[0].shape[0]))\n",
        "image_size = int(math.sqrt(full_data.train.images[0].shape[0]))\n",
        "print(image_size)\n",
        "\n",
        "print(full_data.train.labels[0])\n",
        "#print(full_data.train.images[0])\n",
        "\n",
        "train_labels = [0, 0, 0, 0, 0, 0, 0, 0, 0, 0] \n",
        "test_labels = [0, 0, 0, 0, 0, 0, 0, 0, 0, 0]\n",
        "\n",
        "for label in full_data.train.labels:\n",
        "    train_labels = np.add(train_labels, label)\n",
        "    \n",
        "print(train_labels)\n",
        "\n",
        "for label in full_data.test.labels:\n",
        "    test_labels = np.add(test_labels, label)\n",
        "\n",
        "print(test_labels)"
      ],
      "execution_count": 0,
      "outputs": []
    },
    {
      "cell_type": "code",
      "metadata": {
        "id": "je0llrWxHzu0",
        "colab_type": "code",
        "colab": {}
      },
      "source": [
        "def plot_image(plt, data, label, size, location):\n",
        "    plt.subplot(location)\n",
        "    img = np.reshape(data, size)\n",
        "    label = np.argmax(label)\n",
        "    plt.imshow(img)\n",
        "    plt.title(\"(Label: \" + str(LABELS[label]) + \")\")\n",
        "\n",
        "plt.figure(figsize=[18,18])\n",
        "\n",
        "plot_image(plt, \n",
        "           full_data.train.images[4], \n",
        "           full_data.train.labels[4,:], \n",
        "           (image_size, image_size),\n",
        "           121)\n",
        "\n",
        "plot_image(plt, \n",
        "           full_data.test.images[95], \n",
        "           full_data.test.labels[95,:], \n",
        "           (image_size, image_size),\n",
        "           122)"
      ],
      "execution_count": 0,
      "outputs": []
    },
    {
      "cell_type": "markdown",
      "metadata": {
        "id": "R91RHRj4O1Av",
        "colab_type": "text"
      },
      "source": [
        "###Paso 3. Definición de conjuntos de entrenamiento y test para el proceso de entrenamiento"
      ]
    },
    {
      "cell_type": "code",
      "metadata": {
        "id": "yzDu05fZHzu6",
        "colab_type": "code",
        "colab": {}
      },
      "source": [
        ""
      ],
      "execution_count": 0,
      "outputs": []
    },
    {
      "cell_type": "markdown",
      "metadata": {
        "id": "Fs8_nf1iO3t8",
        "colab_type": "text"
      },
      "source": [
        "###Paso 4. Construcción de capa convolución (Función)"
      ]
    },
    {
      "cell_type": "code",
      "metadata": {
        "id": "SSMyClj2Hzu_",
        "colab_type": "code",
        "colab": {}
      },
      "source": [
        ""
      ],
      "execution_count": 0,
      "outputs": []
    },
    {
      "cell_type": "markdown",
      "metadata": {
        "id": "7Bk0XEDLO-6_",
        "colab_type": "text"
      },
      "source": [
        "###Paso 5. Construcción de capa pool (Función)"
      ]
    },
    {
      "cell_type": "code",
      "metadata": {
        "id": "Ex6AIA4vHzvC",
        "colab_type": "code",
        "colab": {}
      },
      "source": [
        ""
      ],
      "execution_count": 0,
      "outputs": []
    },
    {
      "cell_type": "markdown",
      "metadata": {
        "id": "JzfLniOuPIq8",
        "colab_type": "text"
      },
      "source": [
        "###Paso 6. Construcción de capa fully connected (Función)"
      ]
    },
    {
      "cell_type": "code",
      "metadata": {
        "id": "WAu8CfZOHzvG",
        "colab_type": "code",
        "colab": {}
      },
      "source": [
        ""
      ],
      "execution_count": 0,
      "outputs": []
    },
    {
      "cell_type": "markdown",
      "metadata": {
        "id": "HpBWIvjOPXKj",
        "colab_type": "text"
      },
      "source": [
        "###Paso 7. Construcción de red de neuronas (Función)"
      ]
    },
    {
      "cell_type": "code",
      "metadata": {
        "id": "_B4_bcrGHzvK",
        "colab_type": "code",
        "colab": {}
      },
      "source": [
        ""
      ],
      "execution_count": 0,
      "outputs": []
    },
    {
      "cell_type": "markdown",
      "metadata": {
        "id": "ofOylSYgPdRi",
        "colab_type": "text"
      },
      "source": [
        "###Paso 8. Inicialización del grafo (TensorFLow)"
      ]
    },
    {
      "cell_type": "code",
      "metadata": {
        "id": "tYFLqYFJHzvN",
        "colab_type": "code",
        "colab": {}
      },
      "source": [
        ""
      ],
      "execution_count": 0,
      "outputs": []
    },
    {
      "cell_type": "markdown",
      "metadata": {
        "id": "9OLwacV7PjCX",
        "colab_type": "text"
      },
      "source": [
        "###Paso 9. Inicialización de placeHolders"
      ]
    },
    {
      "cell_type": "code",
      "metadata": {
        "id": "2GCYD88JHzvS",
        "colab_type": "code",
        "colab": {}
      },
      "source": [
        ""
      ],
      "execution_count": 0,
      "outputs": []
    },
    {
      "cell_type": "markdown",
      "metadata": {
        "id": "xOIs2zDKPuPX",
        "colab_type": "text"
      },
      "source": [
        "###Paso 10. Inicialización de variables"
      ]
    },
    {
      "cell_type": "code",
      "metadata": {
        "id": "Sa_RdfftHzvW",
        "colab_type": "code",
        "colab": {}
      },
      "source": [
        ""
      ],
      "execution_count": 0,
      "outputs": []
    },
    {
      "cell_type": "markdown",
      "metadata": {
        "id": "_iofmNpmP1fP",
        "colab_type": "text"
      },
      "source": [
        "###Paso 11. Generación de la red"
      ]
    },
    {
      "cell_type": "code",
      "metadata": {
        "id": "u-eLj9PfHzvc",
        "colab_type": "code",
        "colab": {}
      },
      "source": [
        ""
      ],
      "execution_count": 0,
      "outputs": []
    },
    {
      "cell_type": "markdown",
      "metadata": {
        "id": "28HYsciCP6x_",
        "colab_type": "text"
      },
      "source": [
        "###Paso 12. Definición de función de loss"
      ]
    },
    {
      "cell_type": "code",
      "metadata": {
        "id": "wKItmNWMHzvg",
        "colab_type": "code",
        "colab": {}
      },
      "source": [
        ""
      ],
      "execution_count": 0,
      "outputs": []
    },
    {
      "cell_type": "markdown",
      "metadata": {
        "id": "U-zs4B5QP_fW",
        "colab_type": "text"
      },
      "source": [
        "###Paso 13. Definición de función de optimización"
      ]
    },
    {
      "cell_type": "code",
      "metadata": {
        "id": "MzypuSgwQGa2",
        "colab_type": "code",
        "colab": {}
      },
      "source": [
        ""
      ],
      "execution_count": 0,
      "outputs": []
    },
    {
      "cell_type": "markdown",
      "metadata": {
        "id": "o8mYMrO6QG3W",
        "colab_type": "text"
      },
      "source": [
        "###Paso 14. Definición de función de entrenamiento"
      ]
    },
    {
      "cell_type": "code",
      "metadata": {
        "id": "MoC1uNwjQHc-",
        "colab_type": "code",
        "colab": {}
      },
      "source": [
        ""
      ],
      "execution_count": 0,
      "outputs": []
    },
    {
      "cell_type": "markdown",
      "metadata": {
        "id": "jg2V7E6QQH81",
        "colab_type": "text"
      },
      "source": [
        "###Paso 15. Definición de bucle de entrenamiento (Función)\n"
      ]
    },
    {
      "cell_type": "code",
      "metadata": {
        "id": "LV6xvNWtQIRu",
        "colab_type": "code",
        "colab": {}
      },
      "source": [
        ""
      ],
      "execution_count": 0,
      "outputs": []
    },
    {
      "cell_type": "markdown",
      "metadata": {
        "id": "qrx0FI4HQIjF",
        "colab_type": "text"
      },
      "source": [
        "###Paso 16. Visualización de resultados (Función)"
      ]
    },
    {
      "cell_type": "code",
      "metadata": {
        "id": "iv6lIbZ5QI0l",
        "colab_type": "code",
        "colab": {}
      },
      "source": [
        ""
      ],
      "execution_count": 0,
      "outputs": []
    },
    {
      "cell_type": "markdown",
      "metadata": {
        "id": "BpzylRVwQJN1",
        "colab_type": "text"
      },
      "source": [
        "###Paso 17. Ejecución del proceso de entrenamiento\n"
      ]
    },
    {
      "cell_type": "code",
      "metadata": {
        "id": "5k5w-MpzQJhl",
        "colab_type": "code",
        "colab": {}
      },
      "source": [
        ""
      ],
      "execution_count": 0,
      "outputs": []
    },
    {
      "cell_type": "markdown",
      "metadata": {
        "id": "f-tQPyrsQe8v",
        "colab_type": "text"
      },
      "source": [
        "###Paso 18. Ejecución del proceso de entrenamiento"
      ]
    },
    {
      "cell_type": "code",
      "metadata": {
        "id": "JQe-r2zlQfPE",
        "colab_type": "code",
        "colab": {}
      },
      "source": [
        ""
      ],
      "execution_count": 0,
      "outputs": []
    }
  ]
}