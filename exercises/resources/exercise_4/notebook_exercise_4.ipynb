{
  "nbformat": 4,
  "nbformat_minor": 0,
  "metadata": {
    "kernelspec": {
      "display_name": "Python 3",
      "language": "python",
      "name": "python3"
    },
    "language_info": {
      "codemirror_mode": {
        "name": "ipython",
        "version": 3
      },
      "file_extension": ".py",
      "mimetype": "text/x-python",
      "name": "python",
      "nbconvert_exporter": "python",
      "pygments_lexer": "ipython3",
      "version": "3.7.6"
    },
    "colab": {
      "name": "notebook_exercise_4.ipynb",
      "provenance": [],
      "collapsed_sections": []
    }
  },
  "cells": [
    {
      "cell_type": "markdown",
      "metadata": {
        "id": "P1YZY_0PFZjE",
        "colab_type": "text"
      },
      "source": [
        "###Paso 1. Instalación de paquetes y despligue de TensorFlow Board\n"
      ]
    },
    {
      "cell_type": "code",
      "metadata": {
        "id": "O12F9LS_FBsw",
        "colab_type": "code",
        "colab": {}
      },
      "source": [
        "!pip install pandas scikit-learn numpy seaborn matplotlib numpy requests pydot"
      ],
      "execution_count": 0,
      "outputs": []
    },
    {
      "cell_type": "markdown",
      "metadata": {
        "id": "bO4EpU3EF0_U",
        "colab_type": "text"
      },
      "source": [
        "###Paso 2. Definición de paquetes a importar"
      ]
    },
    {
      "cell_type": "code",
      "metadata": {
        "id": "th3J4AbYFBs4",
        "colab_type": "code",
        "colab": {}
      },
      "source": [
        "import input_data\n",
        "import numpy as np\n",
        "import matplotlib.pyplot as plt\n",
        "import tensorflow as tf\n",
        "import os\n",
        "import os.path\n",
        "import requests \n",
        "import math\n",
        "\n",
        "os.environ['TF_CPP_MIN_LOG_LEVEL'] = '2'\n",
        "os.environ[\"CUDA_VISIBLE_DEVICES\"] = \"-1\""
      ],
      "execution_count": 0,
      "outputs": []
    },
    {
      "cell_type": "code",
      "metadata": {
        "id": "K-nlMK72FBs-",
        "colab_type": "code",
        "colab": {}
      },
      "source": [
        "urls = ['http://fashion-mnist.s3-website.eu-central-1.amazonaws.com/train-images-idx3-ubyte.gz',\n",
        "         'http://fashion-mnist.s3-website.eu-central-1.amazonaws.com/train-labels-idx1-ubyte.gz',\n",
        "         'http://fashion-mnist.s3-website.eu-central-1.amazonaws.com/t10k-images-idx3-ubyte.gz',\n",
        "         'http://fashion-mnist.s3-website.eu-central-1.amazonaws.com/t10k-labels-idx1-ubyte.gz']\n",
        "\n",
        "data_path = \"data\"\n",
        "\n",
        "try:\n",
        "    os.mkdir(data_path)\n",
        "except OSError:\n",
        "    print (\"El directorio %s no hay podido ser creado\" % (data_path))\n",
        "else:\n",
        "    print (\"El directorio %s ha sido creado correctamente\" % (data_path))\n",
        "\n",
        "for url in urls:\n",
        "    save_path = os.path.join(\"data\", url.split('/')[-1])\n",
        "    r = requests.get(url, stream=True)\n",
        "    with open(save_path, 'wb') as fd:\n",
        "        for chunk in r.iter_content(chunk_size=128):\n",
        "            fd.write(chunk)\n",
        "        print (\"Fichero %s ha sido descargado correctamente\" % (save_path))"
      ],
      "execution_count": 0,
      "outputs": []
    },
    {
      "cell_type": "code",
      "metadata": {
        "id": "DdocRBExFBtD",
        "colab_type": "code",
        "colab": {}
      },
      "source": [
        "full_data = input_data.read_data_sets('data', one_hot=True)\n",
        "\n",
        "LABELS = {\n",
        " 0: 'Camiseta/top',\n",
        " 1: 'Pantalones',\n",
        " 2: 'Sudadera',\n",
        " 3: 'Vestido',\n",
        " 4: 'Abrigo/Gabardina',\n",
        " 5: 'Sandalias/Zapato',\n",
        " 6: 'Camisa',\n",
        " 7: 'Zapatillas',\n",
        " 8: 'Bolso/Bolsa',\n",
        " 9: 'Botas',\n",
        "}"
      ],
      "execution_count": 0,
      "outputs": []
    },
    {
      "cell_type": "markdown",
      "metadata": {
        "id": "aASIfnW3GPHK",
        "colab_type": "text"
      },
      "source": [
        ""
      ]
    },
    {
      "cell_type": "code",
      "metadata": {
        "id": "O0Lys8vsFBtI",
        "colab_type": "code",
        "colab": {}
      },
      "source": [
        "print(\"Conjunto de entrenamiento (Imágenes) shape: {shape}\".format(shape=full_data.train.images.shape))\n",
        "print(\"Conjunto de entrenamiento (Classes) shape: {shape}\".format(shape=full_data.train.labels.shape))\n",
        "print(\"Conjunto de test (Imágenes) shape: {shape}\".format(shape=full_data.test.images.shape))\n",
        "print(\"Conjunto de test (Clases) shape: {shape}\".format(shape=full_data.test.labels.shape))\n",
        "\n",
        "print(full_data.train.images[0].shape)\n",
        "print(math.sqrt(full_data.train.images[0].shape[0]))\n",
        "image_size = int(math.sqrt(full_data.train.images[0].shape[0]))\n",
        "print(image_size)\n",
        "\n",
        "print(full_data.train.labels[0])\n",
        "#print(full_data.train.images[0])\n",
        "\n",
        "train_labels = [0, 0, 0, 0, 0, 0, 0, 0, 0, 0] \n",
        "test_labels = [0, 0, 0, 0, 0, 0, 0, 0, 0, 0]\n",
        "\n",
        "for label in full_data.train.labels:\n",
        "    train_labels = np.add(train_labels, label)\n",
        "    \n",
        "print(train_labels)\n",
        "\n",
        "for label in full_data.test.labels:\n",
        "    test_labels = np.add(test_labels, label)\n",
        "\n",
        "print(test_labels)"
      ],
      "execution_count": 0,
      "outputs": []
    },
    {
      "cell_type": "code",
      "metadata": {
        "id": "wMUUyr0kFBtO",
        "colab_type": "code",
        "colab": {}
      },
      "source": [
        "def plot_image(plt, data, label, size, location):\n",
        "    plt.subplot(location)\n",
        "    img = np.reshape(data, size)\n",
        "    label = np.argmax(label)\n",
        "    plt.imshow(img)\n",
        "    plt.title(\"(Label: \" + str(LABELS[label]) + \")\")\n",
        "\n",
        "plt.figure(figsize=[18,18])\n",
        "\n",
        "plot_image(plt, \n",
        "           full_data.train.images[4], \n",
        "           full_data.train.labels[4,:], \n",
        "           (image_size, image_size),\n",
        "           121)\n",
        "\n",
        "plot_image(plt, \n",
        "           full_data.test.images[95], \n",
        "           full_data.test.labels[95,:], \n",
        "           (image_size, image_size),\n",
        "           122)"
      ],
      "execution_count": 0,
      "outputs": []
    },
    {
      "cell_type": "markdown",
      "metadata": {
        "id": "Yf12y71bGIRT",
        "colab_type": "text"
      },
      "source": [
        "###Paso 3. Definición de conjuntos de entrenamiento y test para el proceso de entrenamiento"
      ]
    },
    {
      "cell_type": "code",
      "metadata": {
        "id": "Cz0aABMKFBtU",
        "colab_type": "code",
        "colab": {}
      },
      "source": [
        ""
      ],
      "execution_count": 0,
      "outputs": []
    },
    {
      "cell_type": "markdown",
      "metadata": {
        "id": "hfDhxCYJGvk7",
        "colab_type": "text"
      },
      "source": [
        "###Paso 4. Inicialización del grafo (TensorFlow)"
      ]
    },
    {
      "cell_type": "code",
      "metadata": {
        "id": "w3VQGLjWFBtZ",
        "colab_type": "code",
        "colab": {}
      },
      "source": [
        ""
      ],
      "execution_count": 0,
      "outputs": []
    },
    {
      "cell_type": "markdown",
      "metadata": {
        "id": "KZTtJQKVG0dC",
        "colab_type": "text"
      },
      "source": [
        "###Paso 5. Inicialización de placeHolders"
      ]
    },
    {
      "cell_type": "code",
      "metadata": {
        "id": "-y32K2D7FBtc",
        "colab_type": "code",
        "colab": {}
      },
      "source": [
        ""
      ],
      "execution_count": 0,
      "outputs": []
    },
    {
      "cell_type": "markdown",
      "metadata": {
        "id": "RlJQU7pxG7on",
        "colab_type": "text"
      },
      "source": [
        "###Paso 6. Construcción y generación de la red"
      ]
    },
    {
      "cell_type": "code",
      "metadata": {
        "id": "6ZtcDmv9FBtg",
        "colab_type": "code",
        "colab": {}
      },
      "source": [
        ""
      ],
      "execution_count": 0,
      "outputs": []
    },
    {
      "cell_type": "markdown",
      "metadata": {
        "id": "NA8-J5-dHA5Q",
        "colab_type": "text"
      },
      "source": [
        "###Paso 7. Definición de función de optimización"
      ]
    },
    {
      "cell_type": "code",
      "metadata": {
        "id": "Z6cCbTtUFBtk",
        "colab_type": "code",
        "colab": {}
      },
      "source": [
        ""
      ],
      "execution_count": 0,
      "outputs": []
    },
    {
      "cell_type": "markdown",
      "metadata": {
        "id": "XOQRD6ZzHFPB",
        "colab_type": "text"
      },
      "source": [
        "###Paso 8. Compilación de la red"
      ]
    },
    {
      "cell_type": "code",
      "metadata": {
        "id": "0mOari5VFBtn",
        "colab_type": "code",
        "colab": {}
      },
      "source": [
        ""
      ],
      "execution_count": 0,
      "outputs": []
    },
    {
      "cell_type": "markdown",
      "metadata": {
        "id": "bbMz8R47HOkk",
        "colab_type": "text"
      },
      "source": [
        "###Paso 9. Definición de bucle de entrenamiento (Función)"
      ]
    },
    {
      "cell_type": "code",
      "metadata": {
        "id": "62hLbxmWFBts",
        "colab_type": "code",
        "colab": {}
      },
      "source": [
        ""
      ],
      "execution_count": 0,
      "outputs": []
    },
    {
      "cell_type": "markdown",
      "metadata": {
        "id": "Ii48RBfHHWpr",
        "colab_type": "text"
      },
      "source": [
        "###Paso 10. Ejecución del proceso de entrenamiento"
      ]
    },
    {
      "cell_type": "code",
      "metadata": {
        "id": "uxFPa1jPFBtw",
        "colab_type": "code",
        "colab": {}
      },
      "source": [
        ""
      ],
      "execution_count": 0,
      "outputs": []
    },
    {
      "cell_type": "markdown",
      "metadata": {
        "id": "mHqZqejjHYrr",
        "colab_type": "text"
      },
      "source": [
        "###Paso 11. Visualización de los resultados con TensorFlowBoard"
      ]
    },
    {
      "cell_type": "code",
      "metadata": {
        "id": "MC1km16_FBt0",
        "colab_type": "code",
        "colab": {}
      },
      "source": [
        ""
      ],
      "execution_count": 0,
      "outputs": []
    },
    {
      "cell_type": "markdown",
      "metadata": {
        "id": "c8xXgLGrjszL",
        "colab_type": "text"
      },
      "source": [
        "###Paso 12. Almacenamiento de nuestro modelo\n"
      ]
    },
    {
      "cell_type": "code",
      "metadata": {
        "id": "4ufZH_xwkUDV",
        "colab_type": "code",
        "colab": {}
      },
      "source": [
        ""
      ],
      "execution_count": 0,
      "outputs": []
    },
    {
      "cell_type": "markdown",
      "metadata": {
        "id": "ErEUrgjLo1jb",
        "colab_type": "text"
      },
      "source": [
        "###Paso 13: Carga del modelo y ejecución del proceso de inferencia"
      ]
    },
    {
      "cell_type": "code",
      "metadata": {
        "id": "Bea6jS2io4R3",
        "colab_type": "code",
        "colab": {}
      },
      "source": [
        ""
      ],
      "execution_count": 0,
      "outputs": []
    }
  ]
}